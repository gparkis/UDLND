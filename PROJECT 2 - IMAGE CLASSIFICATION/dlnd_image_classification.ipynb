{
 "cells": [
  {
   "cell_type": "markdown",
   "metadata": {
    "collapsed": true,
    "deletable": true,
    "editable": true
   },
   "source": [
    "# Image Classification\n",
    "In this project, you'll classify images from the [CIFAR-10 dataset](https://www.cs.toronto.edu/~kriz/cifar.html).  The dataset consists of airplanes, dogs, cats, and other objects. You'll preprocess the images, then train a convolutional neural network on all the samples. The images need to be normalized and the labels need to be one-hot encoded.  You'll get to apply what you learned and build a convolutional, max pooling, dropout, and fully connected layers.  At the end, you'll get to see your neural network's predictions on the sample images.\n",
    "## Get the Data\n",
    "Run the following cell to download the [CIFAR-10 dataset for python](https://www.cs.toronto.edu/~kriz/cifar-10-python.tar.gz)."
   ]
  },
  {
   "cell_type": "code",
   "execution_count": 38,
   "metadata": {
    "collapsed": false,
    "deletable": true,
    "editable": true
   },
   "outputs": [
    {
     "name": "stdout",
     "output_type": "stream",
     "text": [
      "All files found!\n"
     ]
    }
   ],
   "source": [
    "\"\"\"\n",
    "DON'T MODIFY ANYTHING IN THIS CELL THAT IS BELOW THIS LINE\n",
    "\"\"\"\n",
    "from urllib.request import urlretrieve\n",
    "from os.path import isfile, isdir\n",
    "from tqdm import tqdm\n",
    "import problem_unittests as tests\n",
    "import tarfile\n",
    "\n",
    "cifar10_dataset_folder_path = 'cifar-10-batches-py'\n",
    "\n",
    "class DLProgress(tqdm):\n",
    "    last_block = 0\n",
    "\n",
    "    def hook(self, block_num=1, block_size=1, total_size=None):\n",
    "        self.total = total_size\n",
    "        self.update((block_num - self.last_block) * block_size)\n",
    "        self.last_block = block_num\n",
    "\n",
    "if not isfile('cifar-10-python.tar.gz'):\n",
    "    with DLProgress(unit='B', unit_scale=True, miniters=1, desc='CIFAR-10 Dataset') as pbar:\n",
    "        urlretrieve(\n",
    "            'https://www.cs.toronto.edu/~kriz/cifar-10-python.tar.gz',\n",
    "            'cifar-10-python.tar.gz',\n",
    "            pbar.hook)\n",
    "\n",
    "if not isdir(cifar10_dataset_folder_path):\n",
    "    with tarfile.open('cifar-10-python.tar.gz') as tar:\n",
    "        tar.extractall()\n",
    "        tar.close()\n",
    "\n",
    "\n",
    "tests.test_folder_path(cifar10_dataset_folder_path)"
   ]
  },
  {
   "cell_type": "markdown",
   "metadata": {
    "deletable": true,
    "editable": true
   },
   "source": [
    "## Explore the Data\n",
    "The dataset is broken into batches to prevent your machine from running out of memory.  The CIFAR-10 dataset consists of 5 batches, named `data_batch_1`, `data_batch_2`, etc.. Each batch contains the labels and images that are one of the following:\n",
    "* airplane\n",
    "* automobile\n",
    "* bird\n",
    "* cat\n",
    "* deer\n",
    "* dog\n",
    "* frog\n",
    "* horse\n",
    "* ship\n",
    "* truck\n",
    "\n",
    "Understanding a dataset is part of making predictions on the data.  Play around with the code cell below by changing the `batch_id` and `sample_id`. The `batch_id` is the id for a batch (1-5). The `sample_id` is the id for a image and label pair in the batch.\n",
    "\n",
    "Ask yourself \"What are all possible labels?\", \"What is the range of values for the image data?\", \"Are the labels in order or random?\".  Answers to questions like these will help you preprocess the data and end up with better predictions."
   ]
  },
  {
   "cell_type": "code",
   "execution_count": 39,
   "metadata": {
    "collapsed": false,
    "deletable": true,
    "editable": true,
    "scrolled": true
   },
   "outputs": [
    {
     "name": "stdout",
     "output_type": "stream",
     "text": [
      "\n",
      "Stats of batch 1:\n",
      "Samples: 10000\n",
      "Label Counts: {0: 1005, 1: 974, 2: 1032, 3: 1016, 4: 999, 5: 937, 6: 1030, 7: 1001, 8: 1025, 9: 981}\n",
      "First 20 Labels: [6, 9, 9, 4, 1, 1, 2, 7, 8, 3, 4, 7, 7, 2, 9, 9, 9, 3, 2, 6]\n",
      "\n",
      "Example of Image 5:\n",
      "Image - Min Value: 0 Max Value: 252\n",
      "Image - Shape: (32, 32, 3)\n",
      "Label - Label Id: 1 Name: automobile\n"
     ]
    },
    {
     "data": {
      "image/png": "[encoded data removed]",
      "text/plain": [
       "<matplotlib.figure.Figure at 0x7f81d8dc0b38>"
      ]
     },
     "metadata": {
      "image/png": {
       "height": 250,
       "width": 253
      }
     },
     "output_type": "display_data"
    }
   ],
   "source": [
    "%matplotlib inline\n",
    "%config InlineBackend.figure_format = 'retina'\n",
    "\n",
    "import helper\n",
    "import numpy as np\n",
    "\n",
    "# Explore the dataset\n",
    "batch_id = 1\n",
    "sample_id = 5\n",
    "helper.display_stats(cifar10_dataset_folder_path, batch_id, sample_id)"
   ]
  },
  {
   "cell_type": "code",
   "execution_count": 40,
   "metadata": {
    "collapsed": false
   },
   "outputs": [
    {
     "name": "stdout",
     "output_type": "stream",
     "text": [
      "\n",
      "Stats of batch 2:\n",
      "Samples: 10000\n",
      "Label Counts: {0: 984, 1: 1007, 2: 1010, 3: 995, 4: 1010, 5: 988, 6: 1008, 7: 1026, 8: 987, 9: 985}\n",
      "First 20 Labels: [1, 6, 6, 8, 8, 3, 4, 6, 0, 6, 0, 3, 6, 6, 5, 4, 8, 3, 2, 6]\n",
      "\n",
      "Example of Image 20:\n",
      "Image - Min Value: 24 Max Value: 206\n",
      "Image - Shape: (32, 32, 3)\n",
      "Label - Label Id: 0 Name: airplane\n"
     ]
    },
    {
     "data": {
      "image/png": "[encoded data removed]",
      "text/plain": [
       "<matplotlib.figure.Figure at 0x7f81d8c3c6a0>"
      ]
     },
     "metadata": {
      "image/png": {
       "height": 250,
       "width": 253
      }
     },
     "output_type": "display_data"
    }
   ],
   "source": [
    "# Im just looking at some other files\n",
    "batch_id = 2\n",
    "sample_id2 = 20\n",
    "helper.display_stats(cifar10_dataset_folder_path, batch_id, sample_id2)"
   ]
  },
  {
   "cell_type": "markdown",
   "metadata": {
    "deletable": true,
    "editable": true
   },
   "source": [
    "## Implement Preprocess Functions\n",
    "### Normalize\n",
    "In the cell below, implement the `normalize` function to take in image data, `x`, and return it as a normalized Numpy array. The values should be in the range of 0 to 1, inclusive.  The return object should be the same shape as `x`."
   ]
  },
  {
   "cell_type": "code",
   "execution_count": 90,
   "metadata": {
    "collapsed": false,
    "deletable": true,
    "editable": true
   },
   "outputs": [
    {
     "name": "stdout",
     "output_type": "stream",
     "text": [
      "Tests Passed\n"
     ]
    }
   ],
   "source": [
    "def normalize(x):\n",
    "    \"\"\"\n",
    "    Normalize a list of sample image data in the range of 0 to 1\n",
    "    : x: List of image data.  The image shape is (32, 32, 3)\n",
    "    : return: Numpy array of normalize data\n",
    "    \"\"\"\n",
    "    # TODO: Implement Function\n",
    "    _min = np.min(x)\n",
    "    _max = np.max(x)\n",
    "    return (x - _min)/(_max - _min)\n",
    "\n",
    "\n",
    "\"\"\"\n",
    "DON'T MODIFY ANYTHING IN THIS CELL THAT IS BELOW THIS LINE\n",
    "\"\"\"\n",
    "tests.test_normalize(normalize)"
   ]
  },
  {
   "cell_type": "markdown",
   "metadata": {
    "deletable": true,
    "editable": true
   },
   "source": [
    "### One-hot encode\n",
    "Just like the previous code cell, you'll be implementing a function for preprocessing.  This time, you'll implement the `one_hot_encode` function. The input, `x`, are a list of labels.  Implement the function to return the list of labels as One-Hot encoded Numpy array.  The possible values for labels are 0 to 9. The one-hot encoding function should return the same encoding for each value between each call to `one_hot_encode`.  Make sure to save the map of encodings outside the function.\n",
    "\n",
    "Hint: Don't reinvent the wheel."
   ]
  },
  {
   "cell_type": "code",
   "execution_count": 91,
   "metadata": {
    "collapsed": false,
    "deletable": true,
    "editable": true
   },
   "outputs": [
    {
     "name": "stdout",
     "output_type": "stream",
     "text": [
      "Tests Passed\n"
     ]
    }
   ],
   "source": [
    "def one_hot_encode(x):\n",
    "    \"\"\"\n",
    "    One hot encode a list of sample labels. Return a one-hot encoded vector for each label.\n",
    "    : x: List of sample Labels\n",
    "    : return: Numpy array of one-hot encoded labels\n",
    "    \"\"\"\n",
    "    # TODO: Implement Function\n",
    "    return np.eye(10)[x]\n",
    "\n",
    "\n",
    "\"\"\"\n",
    "DON'T MODIFY ANYTHING IN THIS CELL THAT IS BELOW THIS LINE\n",
    "\"\"\"\n",
    "tests.test_one_hot_encode(one_hot_encode)"
   ]
  },
  {
   "cell_type": "markdown",
   "metadata": {
    "deletable": true,
    "editable": true
   },
   "source": [
    "### Randomize Data\n",
    "As you saw from exploring the data above, the order of the samples are randomized.  It doesn't hurt to randomize it again, but you don't need to for this dataset."
   ]
  },
  {
   "cell_type": "markdown",
   "metadata": {
    "deletable": true,
    "editable": true
   },
   "source": [
    "## Preprocess all the data and save it\n",
    "Running the code cell below will preprocess all the CIFAR-10 data and save it to file. The code below also uses 10% of the training data for validation."
   ]
  },
  {
   "cell_type": "code",
   "execution_count": 92,
   "metadata": {
    "collapsed": false,
    "deletable": true,
    "editable": true
   },
   "outputs": [],
   "source": [
    "\"\"\"\n",
    "DON'T MODIFY ANYTHING IN THIS CELL\n",
    "\"\"\"\n",
    "# Preprocess Training, Validation, and Testing Data\n",
    "helper.preprocess_and_save_data(cifar10_dataset_folder_path, normalize, one_hot_encode)"
   ]
  },
  {
   "cell_type": "markdown",
   "metadata": {
    "deletable": true,
    "editable": true
   },
   "source": [
    "# Check Point\n",
    "This is your first checkpoint.  If you ever decide to come back to this notebook or have to restart the notebook, you can start from here.  The preprocessed data has been saved to disk."
   ]
  },
  {
   "cell_type": "code",
   "execution_count": 93,
   "metadata": {
    "collapsed": true,
    "deletable": true,
    "editable": true
   },
   "outputs": [],
   "source": [
    "\"\"\"\n",
    "DON'T MODIFY ANYTHING IN THIS CELL\n",
    "\"\"\"\n",
    "import pickle\n",
    "import problem_unittests as tests\n",
    "import helper\n",
    "\n",
    "# Load the Preprocessed Validation data\n",
    "valid_features, valid_labels = pickle.load(open('preprocess_validation.p', mode='rb'))"
   ]
  },
  {
   "cell_type": "markdown",
   "metadata": {
    "deletable": true,
    "editable": true
   },
   "source": [
    "## Build the network\n",
    "For the neural network, you'll build each layer into a function.  Most of the code you've seen has been outside of functions. To test your code more thoroughly, we require that you put each layer in a function.  This allows us to give you better feedback and test for simple mistakes using our unittests before you submit your project.\n",
    "\n",
    ">**Note:** If you're finding it hard to dedicate enough time for this course each week, we've provided a small shortcut to this part of the project. In the next couple of problems, you'll have the option to use classes from the [TensorFlow Layers](https://www.tensorflow.org/api_docs/python/tf/layers) or [TensorFlow Layers (contrib)](https://www.tensorflow.org/api_guides/python/contrib.layers) packages to build each layer, except the layers you build in the \"Convolutional and Max Pooling Layer\" section.  TF Layers is similar to Keras's and TFLearn's abstraction to layers, so it's easy to pickup.\n",
    "\n",
    ">However, if you would like to get the most out of this course, try to solve all the problems _without_ using anything from the TF Layers packages. You **can** still use classes from other packages that happen to have the same name as ones you find in TF Layers! For example, instead of using the TF Layers version of the `conv2d` class, [tf.layers.conv2d](https://www.tensorflow.org/api_docs/python/tf/layers/conv2d), you would want to use the TF Neural Network version of `conv2d`, [tf.nn.conv2d](https://www.tensorflow.org/api_docs/python/tf/nn/conv2d). \n",
    "\n",
    "Let's begin!\n",
    "\n",
    "### Input\n",
    "The neural network needs to read the image data, one-hot encoded labels, and dropout keep probability. Implement the following functions\n",
    "* Implement `neural_net_image_input`\n",
    " * Return a [TF Placeholder](https://www.tensorflow.org/api_docs/python/tf/placeholder)\n",
    " * Set the shape using `image_shape` with batch size set to `None`.\n",
    " * Name the TensorFlow placeholder \"x\" using the TensorFlow `name` parameter in the [TF Placeholder](https://www.tensorflow.org/api_docs/python/tf/placeholder).\n",
    "* Implement `neural_net_label_input`\n",
    " * Return a [TF Placeholder](https://www.tensorflow.org/api_docs/python/tf/placeholder)\n",
    " * Set the shape using `n_classes` with batch size set to `None`.\n",
    " * Name the TensorFlow placeholder \"y\" using the TensorFlow `name` parameter in the [TF Placeholder](https://www.tensorflow.org/api_docs/python/tf/placeholder).\n",
    "* Implement `neural_net_keep_prob_input`\n",
    " * Return a [TF Placeholder](https://www.tensorflow.org/api_docs/python/tf/placeholder) for dropout keep probability.\n",
    " * Name the TensorFlow placeholder \"keep_prob\" using the TensorFlow `name` parameter in the [TF Placeholder](https://www.tensorflow.org/api_docs/python/tf/placeholder).\n",
    "\n",
    "These names will be used at the end of the project to load your saved model.\n",
    "\n",
    "Note: `None` for shapes in TensorFlow allow for a dynamic size."
   ]
  },
  {
   "cell_type": "code",
   "execution_count": 94,
   "metadata": {
    "collapsed": false,
    "deletable": true,
    "editable": true
   },
   "outputs": [
    {
     "name": "stdout",
     "output_type": "stream",
     "text": [
      "Image Input Tests Passed.\n",
      "Label Input Tests Passed.\n",
      "Keep Prob Tests Passed.\n"
     ]
    }
   ],
   "source": [
    "import tensorflow as tf\n",
    "\n",
    "def neural_net_image_input(image_shape):\n",
    "    \"\"\"\n",
    "    Return a Tensor for a bach of image input\n",
    "    : image_shape: Shape of the images\n",
    "    : return: Tensor for image input.\n",
    "    \"\"\"\n",
    "    # TODO: Implement Function\n",
    "    return tf.placeholder(tf.float32, [None, *image_shape], name='x')\n",
    "\n",
    "\n",
    "def neural_net_label_input(n_classes):\n",
    "    \"\"\"\n",
    "    Return a Tensor for a batch of label input\n",
    "    : n_classes: Number of classes\n",
    "    : return: Tensor for label input.\n",
    "    \"\"\"\n",
    "    # TODO: Implement Function\n",
    "    return tf.placeholder(tf.float32, [None, n_classes], name='y')\n",
    "\n",
    "\n",
    "def neural_net_keep_prob_input():\n",
    "    \"\"\"\n",
    "    Return a Tensor for keep probability\n",
    "    : return: Tensor for keep probability.\n",
    "    \"\"\"\n",
    "    # TODO: Implement Function\n",
    "    return tf.placeholder(tf.float32, name='keep_prob')\n",
    "\n",
    "\n",
    "\"\"\"\n",
    "DON'T MODIFY ANYTHING IN THIS CELL THAT IS BELOW THIS LINE\n",
    "\"\"\"\n",
    "tf.reset_default_graph()\n",
    "tests.test_nn_image_inputs(neural_net_image_input)\n",
    "tests.test_nn_label_inputs(neural_net_label_input)\n",
    "tests.test_nn_keep_prob_inputs(neural_net_keep_prob_input)"
   ]
  },
  {
   "cell_type": "markdown",
   "metadata": {
    "deletable": true,
    "editable": true
   },
   "source": [
    "### Convolution and Max Pooling Layer\n",
    "Convolution layers have a lot of success with images. For this code cell, you should implement the function `conv2d_maxpool` to apply convolution then max pooling:\n",
    "* Create the weight and bias using `conv_ksize`, `conv_num_outputs` and the shape of `x_tensor`.\n",
    "* Apply a convolution to `x_tensor` using weight and `conv_strides`.\n",
    " * We recommend you use same padding, but you're welcome to use any padding.\n",
    "* Add bias\n",
    "* Add a nonlinear activation to the convolution.\n",
    "* Apply Max Pooling using `pool_ksize` and `pool_strides`.\n",
    " * We recommend you use same padding, but you're welcome to use any padding.\n",
    "\n",
    "**Note:** You **can't** use [TensorFlow Layers](https://www.tensorflow.org/api_docs/python/tf/layers) or [TensorFlow Layers (contrib)](https://www.tensorflow.org/api_guides/python/contrib.layers) for **this** layer, but you can still use TensorFlow's [Neural Network](https://www.tensorflow.org/api_docs/python/tf/nn) package. You may still use the shortcut option for all the **other** layers."
   ]
  },
  {
   "cell_type": "code",
   "execution_count": 95,
   "metadata": {
    "collapsed": false,
    "deletable": true,
    "editable": true
   },
   "outputs": [
    {
     "name": "stdout",
     "output_type": "stream",
     "text": [
      "Tests Passed\n"
     ]
    }
   ],
   "source": [
    "def conv2d_maxpool(x_tensor, conv_num_outputs, conv_ksize, conv_strides, pool_ksize, pool_strides):\n",
    "    \"\"\"\n",
    "    Apply convolution then max pooling to x_tensor\n",
    "    :param x_tensor: TensorFlow Tensor\n",
    "    :param conv_num_outputs: Number of outputs for the convolutional layer\n",
    "    :param conv_strides: Stride 2-D Tuple for convolution\n",
    "    :param pool_ksize: kernal size 2-D Tuple for pool\n",
    "    :param pool_strides: Stride 2-D Tuple for pool\n",
    "    : return: A tensor that represents convolution and max pooling of x_tensor\n",
    "    \"\"\"\n",
    "    # TODO: Implement Function\n",
    "    in_depth = int(x_tensor.shape[3])\n",
    "    out_depth = conv_num_outputs\n",
    "    w_shape = [*conv_ksize, in_depth, out_depth]\n",
    "    w = tf.Variable(tf.random_normal(w_shape, stddev=0.1))\n",
    "    b = tf.Variable(tf.zeros(out_depth))\n",
    "    \n",
    "    conv_strides = [1, *conv_strides, 1]\n",
    "    x = tf.nn.conv2d(x_tensor, w, strides=conv_strides, padding='SAME')\n",
    "    \n",
    "    x = tf.nn.bias_add(x, b)\n",
    "    x = tf.nn.relu(x)\n",
    "    \n",
    "    pool_ksize = [1, *pool_ksize, 1]\n",
    "    pool_strides = [1, *pool_strides, 1]\n",
    "    x = tf.nn.max_pool(x, pool_ksize, pool_strides, padding='SAME')\n",
    "    return x\n",
    "\n",
    "\n",
    "\"\"\"\n",
    "DON'T MODIFY ANYTHING IN THIS CELL THAT IS BELOW THIS LINE\n",
    "\"\"\"\n",
    "tests.test_con_pool(conv2d_maxpool)\n"
   ]
  },
  {
   "cell_type": "markdown",
   "metadata": {
    "deletable": true,
    "editable": true
   },
   "source": [
    "### Flatten Layer\n",
    "Implement the `flatten` function to change the dimension of `x_tensor` from a 4-D tensor to a 2-D tensor.  The output should be the shape (*Batch Size*, *Flattened Image Size*). Shortcut option: you can use classes from the [TensorFlow Layers](https://www.tensorflow.org/api_docs/python/tf/layers) or [TensorFlow Layers (contrib)](https://www.tensorflow.org/api_guides/python/contrib.layers) packages for this layer. For more of a challenge, only use other TensorFlow packages."
   ]
  },
  {
   "cell_type": "code",
   "execution_count": 96,
   "metadata": {
    "collapsed": false,
    "deletable": true,
    "editable": true
   },
   "outputs": [
    {
     "name": "stdout",
     "output_type": "stream",
     "text": [
      "Tests Passed\n"
     ]
    }
   ],
   "source": [
    "def flatten(x_tensor):\n",
    "    \"\"\"\n",
    "    Flatten x_tensor to (Batch Size, Flattened Image Size)\n",
    "    : x_tensor: A tensor of size (Batch Size, ...), where ... are the image dimensions.\n",
    "    : return: A tensor of size (Batch Size, Flattened Image Size).\n",
    "    \"\"\"\n",
    "    batch_size, *img_size = x_tensor.get_shape().as_list()\n",
    "    img_size = img_size[0] * img_size[1] * img_size[2]\n",
    "    return tf.reshape(x_tensor, [-1, img_size])\n",
    "\n",
    "\n",
    "\"\"\"\n",
    "DON'T MODIFY ANYTHING IN THIS CELL THAT IS BELOW THIS LINE\n",
    "\"\"\"\n",
    "tests.test_flatten(flatten)"
   ]
  },
  {
   "cell_type": "markdown",
   "metadata": {
    "deletable": true,
    "editable": true
   },
   "source": [
    "### Fully-Connected Layer\n",
    "Implement the `fully_conn` function to apply a fully connected layer to `x_tensor` with the shape (*Batch Size*, *num_outputs*). Shortcut option: you can use classes from the [TensorFlow Layers](https://www.tensorflow.org/api_docs/python/tf/layers) or [TensorFlow Layers (contrib)](https://www.tensorflow.org/api_guides/python/contrib.layers) packages for this layer. For more of a challenge, only use other TensorFlow packages."
   ]
  },
  {
   "cell_type": "code",
   "execution_count": 97,
   "metadata": {
    "collapsed": false,
    "deletable": true,
    "editable": true
   },
   "outputs": [
    {
     "name": "stdout",
     "output_type": "stream",
     "text": [
      "Tests Passed\n"
     ]
    }
   ],
   "source": [
    "def fully_conn(x_tensor, num_outputs):\n",
    "    \"\"\"\n",
    "    Apply a fully connected layer to x_tensor using weight and bias\n",
    "    : x_tensor: A 2-D tensor where the first dimension is batch size.\n",
    "    : num_outputs: The number of output that the new tensor should be.\n",
    "    : return: A 2-D tensor where the second dimension is num_outputs.\n",
    "    \"\"\"\n",
    "    # TODO: Implement Function\n",
    "    w_shape = (int(x_tensor.get_shape().as_list()[1]), num_outputs)\n",
    "    w = tf.Variable(tf.random_normal(w_shape, stddev=0.1))\n",
    "    b = tf.Variable(tf.zeros(num_outputs))\n",
    "    x = tf.add(tf.matmul(x_tensor, w), b)\n",
    "    x = tf.nn.relu(x)\n",
    "    return x\n",
    "\n",
    "\n",
    "\"\"\"\n",
    "DON'T MODIFY ANYTHING IN THIS CELL THAT IS BELOW THIS LINE\n",
    "\"\"\"\n",
    "tests.test_fully_conn(fully_conn)"
   ]
  },
  {
   "cell_type": "markdown",
   "metadata": {
    "deletable": true,
    "editable": true
   },
   "source": [
    "### Output Layer\n",
    "Implement the `output` function to apply a fully connected layer to `x_tensor` with the shape (*Batch Size*, *num_outputs*). Shortcut option: you can use classes from the [TensorFlow Layers](https://www.tensorflow.org/api_docs/python/tf/layers) or [TensorFlow Layers (contrib)](https://www.tensorflow.org/api_guides/python/contrib.layers) packages for this layer. For more of a challenge, only use other TensorFlow packages.\n",
    "\n",
    "**Note:** Activation, softmax, or cross entropy should **not** be applied to this."
   ]
  },
  {
   "cell_type": "code",
   "execution_count": 98,
   "metadata": {
    "collapsed": false,
    "deletable": true,
    "editable": true
   },
   "outputs": [
    {
     "name": "stdout",
     "output_type": "stream",
     "text": [
      "Tests Passed\n"
     ]
    }
   ],
   "source": [
    "def output(x_tensor, num_outputs):\n",
    "    \"\"\"\n",
    "    Apply a output layer to x_tensor using weight and bias\n",
    "    : x_tensor: A 2-D tensor where the first dimension is batch size.\n",
    "    : num_outputs: The number of output that the new tensor should be.\n",
    "    : return: A 2-D tensor where the second dimension is num_outputs.\n",
    "    \"\"\"\n",
    "    # TODO: Implement Function\n",
    "    w_shape = [int(x_tensor.get_shape().as_list()[1]), num_outputs]\n",
    "    w = tf.Variable(tf.random_normal(w_shape, stddev=0.1))\n",
    "    b = tf.Variable(tf.zeros(num_outputs))\n",
    "    x = tf.add(tf.matmul(x_tensor, w), b)\n",
    "    return x\n",
    "\n",
    "\n",
    "\"\"\"\n",
    "DON'T MODIFY ANYTHING IN THIS CELL THAT IS BELOW THIS LINE\n",
    "\"\"\"\n",
    "tests.test_output(output)\n"
   ]
  },
  {
   "cell_type": "markdown",
   "metadata": {
    "deletable": true,
    "editable": true
   },
   "source": [
    "### Create Convolutional Model\n",
    "Implement the function `conv_net` to create a convolutional neural network model. The function takes in a batch of images, `x`, and outputs logits.  Use the layers you created above to create this model:\n",
    "\n",
    "* Apply 1, 2, or 3 Convolution and Max Pool layers\n",
    "* Apply a Flatten Layer\n",
    "* Apply 1, 2, or 3 Fully Connected Layers\n",
    "* Apply an Output Layer\n",
    "* Return the output\n",
    "* Apply [TensorFlow's Dropout](https://www.tensorflow.org/api_docs/python/tf/nn/dropout) to one or more layers in the model using `keep_prob`. "
   ]
  },
  {
   "cell_type": "code",
   "execution_count": 99,
   "metadata": {
    "collapsed": false,
    "deletable": true,
    "editable": true
   },
   "outputs": [
    {
     "name": "stdout",
     "output_type": "stream",
     "text": [
      "Neural Network Built!\n"
     ]
    }
   ],
   "source": [
    "def conv_net(x, keep_prob):\n",
    "    \"\"\"\n",
    "    Create a convolutional neural network model\n",
    "    : x: Placeholder tensor that holds image data.\n",
    "    : keep_prob: Placeholder tensor that hold dropout keep probability.\n",
    "    : return: Tensor that represents logits\n",
    "    \"\"\"\n",
    "    # TODO: Apply 1, 2, or 3 Convolution and Max Pool layers\n",
    "    #    Play around with different number of outputs, kernel size and stride\n",
    "    # Function Definition from Above:\n",
    "    #    conv2d_maxpool(x_tensor, conv_num_outputs, conv_ksize, conv_strides, pool_ksize, pool_strides)\n",
    "    x = conv2d_maxpool(x, 32, (3, 3), (1, 1), (2, 2), (2, 2))\n",
    "    x = conv2d_maxpool(x, 32, (3, 3), (2, 2), (2, 2), (2, 2))\n",
    "    x = conv2d_maxpool(x, 64, (3, 3), (1, 1), (2, 2), (2, 2))\n",
    "\n",
    "    # TODO: Apply a Flatten Layer\n",
    "    # Function Definition from Above:\n",
    "    #   flatten(x_tensor)\n",
    "    x = flatten(x)\n",
    "    \n",
    "\n",
    "    # TODO: Apply 1, 2, or 3 Fully Connected Layers\n",
    "    #    Play around with different number of outputs\n",
    "    # Function Definition from Above:\n",
    "    #   fully_conn(x_tensor, num_outputs)\n",
    "    x = fully_conn(x, 512)\n",
    "    x = tf.nn.dropout(x, keep_prob)\n",
    "    x = fully_conn(x, 128)\n",
    "    x = tf.nn.dropout(x, keep_prob)\n",
    "    \n",
    "    \n",
    "    # TODO: Apply an Output Layer\n",
    "    #    Set this to the number of classes\n",
    "    # Function Definition from Above:\n",
    "    #   output(x_tensor, num_outputs)\n",
    "    out = output(x, 10)\n",
    "    \n",
    "    \n",
    "    # TODO: return output\n",
    "    return out\n",
    "\n",
    "\n",
    "\"\"\"\n",
    "DON'T MODIFY ANYTHING IN THIS CELL THAT IS BELOW THIS LINE\n",
    "\"\"\"\n",
    "\n",
    "##############################\n",
    "## Build the Neural Network ##\n",
    "##############################\n",
    "\n",
    "# Remove previous weights, bias, inputs, etc..\n",
    "tf.reset_default_graph()\n",
    "\n",
    "# Inputs\n",
    "x = neural_net_image_input((32, 32, 3))\n",
    "y = neural_net_label_input(10)\n",
    "keep_prob = neural_net_keep_prob_input()\n",
    "\n",
    "# Model\n",
    "logits = conv_net(x, keep_prob)\n",
    "\n",
    "# Name logits Tensor, so that is can be loaded from disk after training\n",
    "logits = tf.identity(logits, name='logits')\n",
    "\n",
    "# Loss and Optimizer\n",
    "cost = tf.reduce_mean(tf.nn.softmax_cross_entropy_with_logits(logits=logits, labels=y))\n",
    "optimizer = tf.train.AdamOptimizer().minimize(cost)\n",
    "\n",
    "# Accuracy\n",
    "correct_pred = tf.equal(tf.argmax(logits, 1), tf.argmax(y, 1))\n",
    "accuracy = tf.reduce_mean(tf.cast(correct_pred, tf.float32), name='accuracy')\n",
    "\n",
    "tests.test_conv_net(conv_net)"
   ]
  },
  {
   "cell_type": "markdown",
   "metadata": {
    "deletable": true,
    "editable": true
   },
   "source": [
    "## Train the Neural Network\n",
    "### Single Optimization\n",
    "Implement the function `train_neural_network` to do a single optimization.  The optimization should use `optimizer` to optimize in `session` with a `feed_dict` of the following:\n",
    "* `x` for image input\n",
    "* `y` for labels\n",
    "* `keep_prob` for keep probability for dropout\n",
    "\n",
    "This function will be called for each batch, so `tf.global_variables_initializer()` has already been called.\n",
    "\n",
    "Note: Nothing needs to be returned. This function is only optimizing the neural network."
   ]
  },
  {
   "cell_type": "code",
   "execution_count": 100,
   "metadata": {
    "collapsed": false,
    "deletable": true,
    "editable": true
   },
   "outputs": [
    {
     "name": "stdout",
     "output_type": "stream",
     "text": [
      "Tests Passed\n"
     ]
    }
   ],
   "source": [
    "def train_neural_network(session, optimizer, keep_probability, feature_batch, label_batch):\n",
    "    \"\"\"\n",
    "    Optimize the session on a batch of images and labels\n",
    "    : session: Current TensorFlow session\n",
    "    : optimizer: TensorFlow optimizer function\n",
    "    : keep_probability: keep probability\n",
    "    : feature_batch: Batch of Numpy image data\n",
    "    : label_batch: Batch of Numpy label data\n",
    "    \"\"\"\n",
    "    # TODO: Implement Function\n",
    "    session.run(optimizer, feed_dict={keep_prob: keep_probability, x: feature_batch, y: label_batch})\n",
    "    \n",
    "\"\"\"\n",
    "DON'T MODIFY ANYTHING IN THIS CELL THAT IS BELOW THIS LINE\n",
    "\"\"\"\n",
    "tests.test_train_nn(train_neural_network)"
   ]
  },
  {
   "cell_type": "markdown",
   "metadata": {
    "deletable": true,
    "editable": true
   },
   "source": [
    "### Show Stats\n",
    "Implement the function `print_stats` to print loss and validation accuracy.  Use the global variables `valid_features` and `valid_labels` to calculate validation accuracy.  Use a keep probability of `1.0` to calculate the loss and validation accuracy."
   ]
  },
  {
   "cell_type": "code",
   "execution_count": 109,
   "metadata": {
    "collapsed": false,
    "deletable": true,
    "editable": true
   },
   "outputs": [],
   "source": [
    "def print_stats(session, feature_batch, label_batch, cost, accuracy):\n",
    "    \"\"\"\n",
    "    Print information about loss and validation accuracy\n",
    "    : session: Current TensorFlow session\n",
    "    : feature_batch: Batch of Numpy image data\n",
    "    : label_batch: Batch of Numpy label data\n",
    "    : cost: TensorFlow cost function\n",
    "    : accuracy: TensorFlow accuracy function\n",
    "    \"\"\"\n",
    "    # TODO: Implement Function\n",
    "    loss = sess.run(cost, feed_dict={x: feature_batch, y: label_batch, keep_prob: 1})\n",
    "    validation_accuracy = session.run(accuracy, feed_dict={x: valid_features, y: valid_labels, keep_prob: 1})\n",
    "    print('Loss: {:>10.4f} Validation Accuracy: {:.6f}'.format(loss, validation_accuracy))\n",
    "    "
   ]
  },
  {
   "cell_type": "markdown",
   "metadata": {
    "deletable": true,
    "editable": true
   },
   "source": [
    "### Hyperparameters\n",
    "Tune the following parameters:\n",
    "* Set `epochs` to the number of iterations until the network stops learning or start overfitting\n",
    "* Set `batch_size` to the highest number that your machine has memory for.  Most people set them to common sizes of memory:\n",
    " * 64\n",
    " * 128\n",
    " * 256\n",
    " * ...\n",
    "* Set `keep_probability` to the probability of keeping a node using dropout"
   ]
  },
  {
   "cell_type": "code",
   "execution_count": 110,
   "metadata": {
    "collapsed": true,
    "deletable": true,
    "editable": true
   },
   "outputs": [],
   "source": [
    "# TODO: Tune Parameters\n",
    "epochs = 75\n",
    "batch_size = 512\n",
    "keep_probability = 0.5"
   ]
  },
  {
   "cell_type": "markdown",
   "metadata": {
    "deletable": true,
    "editable": true
   },
   "source": [
    "### Train on a Single CIFAR-10 Batch\n",
    "Instead of training the neural network on all the CIFAR-10 batches of data, let's use a single batch. This should save time while you iterate on the model to get a better accuracy.  Once the final validation accuracy is 50% or greater, run the model on all the data in the next section."
   ]
  },
  {
   "cell_type": "code",
   "execution_count": 111,
   "metadata": {
    "collapsed": false,
    "deletable": true,
    "editable": true
   },
   "outputs": [
    {
     "name": "stdout",
     "output_type": "stream",
     "text": [
      "Checking the Training on a Single Batch...\n",
      "Epoch  1, CIFAR-10 Batch 1:  Loss:     2.2681 Validation Accuracy: 0.180000\n",
      "Epoch  2, CIFAR-10 Batch 1:  Loss:     2.1126 Validation Accuracy: 0.212600\n",
      "Epoch  3, CIFAR-10 Batch 1:  Loss:     1.9525 Validation Accuracy: 0.310800\n",
      "Epoch  4, CIFAR-10 Batch 1:  Loss:     1.8193 Validation Accuracy: 0.347200\n",
      "Epoch  5, CIFAR-10 Batch 1:  Loss:     1.7262 Validation Accuracy: 0.378800\n",
      "Epoch  6, CIFAR-10 Batch 1:  Loss:     1.6562 Validation Accuracy: 0.405200\n",
      "Epoch  7, CIFAR-10 Batch 1:  Loss:     1.5782 Validation Accuracy: 0.414800\n",
      "Epoch  8, CIFAR-10 Batch 1:  Loss:     1.5168 Validation Accuracy: 0.436800\n",
      "Epoch  9, CIFAR-10 Batch 1:  Loss:     1.4414 Validation Accuracy: 0.450600\n",
      "Epoch 10, CIFAR-10 Batch 1:  Loss:     1.3849 Validation Accuracy: 0.467600\n",
      "Epoch 11, CIFAR-10 Batch 1:  Loss:     1.3317 Validation Accuracy: 0.480000\n",
      "Epoch 12, CIFAR-10 Batch 1:  Loss:     1.2994 Validation Accuracy: 0.492200\n",
      "Epoch 13, CIFAR-10 Batch 1:  Loss:     1.2476 Validation Accuracy: 0.495400\n",
      "Epoch 14, CIFAR-10 Batch 1:  Loss:     1.1976 Validation Accuracy: 0.496800\n",
      "Epoch 15, CIFAR-10 Batch 1:  Loss:     1.1662 Validation Accuracy: 0.506400\n",
      "Epoch 16, CIFAR-10 Batch 1:  Loss:     1.1173 Validation Accuracy: 0.518400\n",
      "Epoch 17, CIFAR-10 Batch 1:  Loss:     1.0785 Validation Accuracy: 0.515800\n",
      "Epoch 18, CIFAR-10 Batch 1:  Loss:     1.0662 Validation Accuracy: 0.519000\n",
      "Epoch 19, CIFAR-10 Batch 1:  Loss:     1.0106 Validation Accuracy: 0.526000\n",
      "Epoch 20, CIFAR-10 Batch 1:  Loss:     0.9496 Validation Accuracy: 0.534000\n",
      "Epoch 21, CIFAR-10 Batch 1:  Loss:     0.9640 Validation Accuracy: 0.535000\n",
      "Epoch 22, CIFAR-10 Batch 1:  Loss:     0.8972 Validation Accuracy: 0.537200\n",
      "Epoch 23, CIFAR-10 Batch 1:  Loss:     0.8655 Validation Accuracy: 0.538400\n",
      "Epoch 24, CIFAR-10 Batch 1:  Loss:     0.8249 Validation Accuracy: 0.536600\n",
      "Epoch 25, CIFAR-10 Batch 1:  Loss:     0.8001 Validation Accuracy: 0.550400\n",
      "Epoch 26, CIFAR-10 Batch 1:  Loss:     0.7695 Validation Accuracy: 0.549000\n",
      "Epoch 27, CIFAR-10 Batch 1:  Loss:     0.7407 Validation Accuracy: 0.546600\n",
      "Epoch 28, CIFAR-10 Batch 1:  Loss:     0.7075 Validation Accuracy: 0.541200\n",
      "Epoch 29, CIFAR-10 Batch 1:  Loss:     0.6902 Validation Accuracy: 0.546600\n",
      "Epoch 30, CIFAR-10 Batch 1:  Loss:     0.6472 Validation Accuracy: 0.551000\n",
      "Epoch 31, CIFAR-10 Batch 1:  Loss:     0.6317 Validation Accuracy: 0.560800\n",
      "Epoch 32, CIFAR-10 Batch 1:  Loss:     0.6072 Validation Accuracy: 0.559600\n",
      "Epoch 33, CIFAR-10 Batch 1:  Loss:     0.5821 Validation Accuracy: 0.556400\n",
      "Epoch 34, CIFAR-10 Batch 1:  Loss:     0.5500 Validation Accuracy: 0.558600\n",
      "Epoch 35, CIFAR-10 Batch 1:  Loss:     0.5295 Validation Accuracy: 0.550600\n",
      "Epoch 36, CIFAR-10 Batch 1:  Loss:     0.4946 Validation Accuracy: 0.559200\n",
      "Epoch 37, CIFAR-10 Batch 1:  Loss:     0.4942 Validation Accuracy: 0.559600\n",
      "Epoch 38, CIFAR-10 Batch 1:  Loss:     0.5240 Validation Accuracy: 0.539400\n",
      "Epoch 39, CIFAR-10 Batch 1:  Loss:     0.4745 Validation Accuracy: 0.551200\n",
      "Epoch 40, CIFAR-10 Batch 1:  Loss:     0.4443 Validation Accuracy: 0.556800\n",
      "Epoch 41, CIFAR-10 Batch 1:  Loss:     0.4783 Validation Accuracy: 0.545400\n",
      "Epoch 42, CIFAR-10 Batch 1:  Loss:     0.4480 Validation Accuracy: 0.564200\n",
      "Epoch 43, CIFAR-10 Batch 1:  Loss:     0.4130 Validation Accuracy: 0.553600\n",
      "Epoch 44, CIFAR-10 Batch 1:  Loss:     0.3775 Validation Accuracy: 0.557800\n",
      "Epoch 45, CIFAR-10 Batch 1:  Loss:     0.3523 Validation Accuracy: 0.562600\n",
      "Epoch 46, CIFAR-10 Batch 1:  Loss:     0.3502 Validation Accuracy: 0.556800\n",
      "Epoch 47, CIFAR-10 Batch 1:  Loss:     0.3869 Validation Accuracy: 0.535600\n",
      "Epoch 48, CIFAR-10 Batch 1:  Loss:     0.3150 Validation Accuracy: 0.567400\n",
      "Epoch 49, CIFAR-10 Batch 1:  Loss:     0.3007 Validation Accuracy: 0.565200\n",
      "Epoch 50, CIFAR-10 Batch 1:  Loss:     0.2865 Validation Accuracy: 0.552600\n",
      "Epoch 51, CIFAR-10 Batch 1:  Loss:     0.3027 Validation Accuracy: 0.550800\n",
      "Epoch 52, CIFAR-10 Batch 1:  Loss:     0.2687 Validation Accuracy: 0.550400\n",
      "Epoch 53, CIFAR-10 Batch 1:  Loss:     0.2604 Validation Accuracy: 0.557200\n",
      "Epoch 54, CIFAR-10 Batch 1:  Loss:     0.2449 Validation Accuracy: 0.553000\n",
      "Epoch 55, CIFAR-10 Batch 1:  Loss:     0.2326 Validation Accuracy: 0.561200\n",
      "Epoch 56, CIFAR-10 Batch 1:  Loss:     0.2457 Validation Accuracy: 0.559200\n",
      "Epoch 57, CIFAR-10 Batch 1:  Loss:     0.2276 Validation Accuracy: 0.560000\n",
      "Epoch 58, CIFAR-10 Batch 1:  Loss:     0.2004 Validation Accuracy: 0.563400\n",
      "Epoch 59, CIFAR-10 Batch 1:  Loss:     0.2268 Validation Accuracy: 0.552000\n",
      "Epoch 60, CIFAR-10 Batch 1:  Loss:     0.1949 Validation Accuracy: 0.564600\n",
      "Epoch 61, CIFAR-10 Batch 1:  Loss:     0.2178 Validation Accuracy: 0.557200\n",
      "Epoch 62, CIFAR-10 Batch 1:  Loss:     0.2637 Validation Accuracy: 0.535000\n",
      "Epoch 63, CIFAR-10 Batch 1:  Loss:     0.1952 Validation Accuracy: 0.561400\n",
      "Epoch 64, CIFAR-10 Batch 1:  Loss:     0.1865 Validation Accuracy: 0.552600\n",
      "Epoch 65, CIFAR-10 Batch 1:  Loss:     0.1836 Validation Accuracy: 0.548600\n",
      "Epoch 66, CIFAR-10 Batch 1:  Loss:     0.2226 Validation Accuracy: 0.523200\n",
      "Epoch 67, CIFAR-10 Batch 1:  Loss:     0.2409 Validation Accuracy: 0.538800\n",
      "Epoch 68, CIFAR-10 Batch 1:  Loss:     0.1867 Validation Accuracy: 0.560400\n",
      "Epoch 69, CIFAR-10 Batch 1:  Loss:     0.1654 Validation Accuracy: 0.548400\n",
      "Epoch 70, CIFAR-10 Batch 1:  Loss:     0.1673 Validation Accuracy: 0.528400\n",
      "Epoch 71, CIFAR-10 Batch 1:  Loss:     0.1656 Validation Accuracy: 0.546000\n",
      "Epoch 72, CIFAR-10 Batch 1:  Loss:     0.1389 Validation Accuracy: 0.568200\n",
      "Epoch 73, CIFAR-10 Batch 1:  Loss:     0.2323 Validation Accuracy: 0.535000\n",
      "Epoch 74, CIFAR-10 Batch 1:  Loss:     0.1589 Validation Accuracy: 0.536800\n",
      "Epoch 75, CIFAR-10 Batch 1:  Loss:     0.1125 Validation Accuracy: 0.561800\n"
     ]
    }
   ],
   "source": [
    "\"\"\"\n",
    "DON'T MODIFY ANYTHING IN THIS CELL\n",
    "\"\"\"\n",
    "print('Checking the Training on a Single Batch...')\n",
    "with tf.Session() as sess:\n",
    "    # Initializing the variables\n",
    "    sess.run(tf.global_variables_initializer())\n",
    "    \n",
    "    # Training cycle\n",
    "    for epoch in range(epochs):\n",
    "        batch_i = 1\n",
    "        for batch_features, batch_labels in helper.load_preprocess_training_batch(batch_i, batch_size):\n",
    "            train_neural_network(sess, optimizer, keep_probability, batch_features, batch_labels)\n",
    "        print('Epoch {:>2}, CIFAR-10 Batch {}:  '.format(epoch + 1, batch_i), end='')\n",
    "        print_stats(sess, batch_features, batch_labels, cost, accuracy)"
   ]
  },
  {
   "cell_type": "markdown",
   "metadata": {
    "deletable": true,
    "editable": true
   },
   "source": [
    "### Fully Train the Model\n",
    "Now that you got a good accuracy with a single CIFAR-10 batch, try it with all five batches."
   ]
  },
  {
   "cell_type": "code",
   "execution_count": 112,
   "metadata": {
    "collapsed": false,
    "deletable": true,
    "editable": true
   },
   "outputs": [
    {
     "name": "stdout",
     "output_type": "stream",
     "text": [
      "Training...\n",
      "Epoch  1, CIFAR-10 Batch 1:  Loss:     2.2636 Validation Accuracy: 0.200200\n",
      "Epoch  1, CIFAR-10 Batch 2:  Loss:     2.1117 Validation Accuracy: 0.284000\n",
      "Epoch  1, CIFAR-10 Batch 3:  Loss:     1.8727 Validation Accuracy: 0.326000\n",
      "Epoch  1, CIFAR-10 Batch 4:  Loss:     1.7688 Validation Accuracy: 0.357800\n",
      "Epoch  1, CIFAR-10 Batch 5:  Loss:     1.7407 Validation Accuracy: 0.375400\n",
      "Epoch  2, CIFAR-10 Batch 1:  Loss:     1.7622 Validation Accuracy: 0.391400\n",
      "Epoch  2, CIFAR-10 Batch 2:  Loss:     1.6340 Validation Accuracy: 0.416800\n",
      "Epoch  2, CIFAR-10 Batch 3:  Loss:     1.4513 Validation Accuracy: 0.425400\n",
      "Epoch  2, CIFAR-10 Batch 4:  Loss:     1.4042 Validation Accuracy: 0.444000\n",
      "Epoch  2, CIFAR-10 Batch 5:  Loss:     1.4565 Validation Accuracy: 0.453400\n",
      "Epoch  3, CIFAR-10 Batch 1:  Loss:     1.5412 Validation Accuracy: 0.471000\n",
      "Epoch  3, CIFAR-10 Batch 2:  Loss:     1.4027 Validation Accuracy: 0.481400\n",
      "Epoch  3, CIFAR-10 Batch 3:  Loss:     1.2679 Validation Accuracy: 0.477400\n",
      "Epoch  3, CIFAR-10 Batch 4:  Loss:     1.2787 Validation Accuracy: 0.493600\n",
      "Epoch  3, CIFAR-10 Batch 5:  Loss:     1.2935 Validation Accuracy: 0.497000\n",
      "Epoch  4, CIFAR-10 Batch 1:  Loss:     1.4139 Validation Accuracy: 0.513200\n",
      "Epoch  4, CIFAR-10 Batch 2:  Loss:     1.3072 Validation Accuracy: 0.506600\n",
      "Epoch  4, CIFAR-10 Batch 3:  Loss:     1.1597 Validation Accuracy: 0.524400\n",
      "Epoch  4, CIFAR-10 Batch 4:  Loss:     1.1540 Validation Accuracy: 0.528800\n",
      "Epoch  4, CIFAR-10 Batch 5:  Loss:     1.2110 Validation Accuracy: 0.529000\n",
      "Epoch  5, CIFAR-10 Batch 1:  Loss:     1.3313 Validation Accuracy: 0.531800\n",
      "Epoch  5, CIFAR-10 Batch 2:  Loss:     1.2182 Validation Accuracy: 0.536000\n",
      "Epoch  5, CIFAR-10 Batch 3:  Loss:     1.1147 Validation Accuracy: 0.536600\n",
      "Epoch  5, CIFAR-10 Batch 4:  Loss:     1.0797 Validation Accuracy: 0.550000\n",
      "Epoch  5, CIFAR-10 Batch 5:  Loss:     1.1367 Validation Accuracy: 0.542600\n",
      "Epoch  6, CIFAR-10 Batch 1:  Loss:     1.2339 Validation Accuracy: 0.549400\n",
      "Epoch  6, CIFAR-10 Batch 2:  Loss:     1.1465 Validation Accuracy: 0.555400\n",
      "Epoch  6, CIFAR-10 Batch 3:  Loss:     1.0378 Validation Accuracy: 0.556200\n",
      "Epoch  6, CIFAR-10 Batch 4:  Loss:     1.0049 Validation Accuracy: 0.563200\n",
      "Epoch  6, CIFAR-10 Batch 5:  Loss:     1.0808 Validation Accuracy: 0.561600\n",
      "Epoch  7, CIFAR-10 Batch 1:  Loss:     1.1668 Validation Accuracy: 0.573000\n",
      "Epoch  7, CIFAR-10 Batch 2:  Loss:     1.0753 Validation Accuracy: 0.568800\n",
      "Epoch  7, CIFAR-10 Batch 3:  Loss:     1.0008 Validation Accuracy: 0.568600\n",
      "Epoch  7, CIFAR-10 Batch 4:  Loss:     0.9479 Validation Accuracy: 0.577000\n",
      "Epoch  7, CIFAR-10 Batch 5:  Loss:     1.0286 Validation Accuracy: 0.582200\n",
      "Epoch  8, CIFAR-10 Batch 1:  Loss:     1.1251 Validation Accuracy: 0.581200\n",
      "Epoch  8, CIFAR-10 Batch 2:  Loss:     1.0318 Validation Accuracy: 0.583800\n",
      "Epoch  8, CIFAR-10 Batch 3:  Loss:     0.9582 Validation Accuracy: 0.580800\n",
      "Epoch  8, CIFAR-10 Batch 4:  Loss:     0.9213 Validation Accuracy: 0.584400\n",
      "Epoch  8, CIFAR-10 Batch 5:  Loss:     0.9662 Validation Accuracy: 0.595400\n",
      "Epoch  9, CIFAR-10 Batch 1:  Loss:     1.0655 Validation Accuracy: 0.596400\n",
      "Epoch  9, CIFAR-10 Batch 2:  Loss:     0.9969 Validation Accuracy: 0.584600\n",
      "Epoch  9, CIFAR-10 Batch 3:  Loss:     0.8969 Validation Accuracy: 0.592000\n",
      "Epoch  9, CIFAR-10 Batch 4:  Loss:     0.8778 Validation Accuracy: 0.598000\n",
      "Epoch  9, CIFAR-10 Batch 5:  Loss:     0.9064 Validation Accuracy: 0.607600\n",
      "Epoch 10, CIFAR-10 Batch 1:  Loss:     1.0003 Validation Accuracy: 0.611600\n",
      "Epoch 10, CIFAR-10 Batch 2:  Loss:     0.9767 Validation Accuracy: 0.592800\n",
      "Epoch 10, CIFAR-10 Batch 3:  Loss:     0.8859 Validation Accuracy: 0.592200\n",
      "Epoch 10, CIFAR-10 Batch 4:  Loss:     0.8441 Validation Accuracy: 0.612600\n",
      "Epoch 10, CIFAR-10 Batch 5:  Loss:     0.8825 Validation Accuracy: 0.609600\n",
      "Epoch 11, CIFAR-10 Batch 1:  Loss:     0.9759 Validation Accuracy: 0.616600\n",
      "Epoch 11, CIFAR-10 Batch 2:  Loss:     0.8945 Validation Accuracy: 0.615800\n",
      "Epoch 11, CIFAR-10 Batch 3:  Loss:     0.8424 Validation Accuracy: 0.603600\n",
      "Epoch 11, CIFAR-10 Batch 4:  Loss:     0.7905 Validation Accuracy: 0.627400\n",
      "Epoch 11, CIFAR-10 Batch 5:  Loss:     0.8305 Validation Accuracy: 0.629200\n",
      "Epoch 12, CIFAR-10 Batch 1:  Loss:     0.9547 Validation Accuracy: 0.614800\n",
      "Epoch 12, CIFAR-10 Batch 2:  Loss:     0.8535 Validation Accuracy: 0.625600\n",
      "Epoch 12, CIFAR-10 Batch 3:  Loss:     0.8328 Validation Accuracy: 0.610600\n",
      "Epoch 12, CIFAR-10 Batch 4:  Loss:     0.8122 Validation Accuracy: 0.617600\n",
      "Epoch 12, CIFAR-10 Batch 5:  Loss:     0.7929 Validation Accuracy: 0.628400\n",
      "Epoch 13, CIFAR-10 Batch 1:  Loss:     0.8927 Validation Accuracy: 0.635400\n",
      "Epoch 13, CIFAR-10 Batch 2:  Loss:     0.8152 Validation Accuracy: 0.632800\n",
      "Epoch 13, CIFAR-10 Batch 3:  Loss:     0.7677 Validation Accuracy: 0.631600\n",
      "Epoch 13, CIFAR-10 Batch 4:  Loss:     0.7639 Validation Accuracy: 0.636800\n",
      "Epoch 13, CIFAR-10 Batch 5:  Loss:     0.7630 Validation Accuracy: 0.629200\n",
      "Epoch 14, CIFAR-10 Batch 1:  Loss:     0.8474 Validation Accuracy: 0.638200\n",
      "Epoch 14, CIFAR-10 Batch 2:  Loss:     0.7987 Validation Accuracy: 0.638800\n",
      "Epoch 14, CIFAR-10 Batch 3:  Loss:     0.7392 Validation Accuracy: 0.633400\n",
      "Epoch 14, CIFAR-10 Batch 4:  Loss:     0.7570 Validation Accuracy: 0.636800\n",
      "Epoch 14, CIFAR-10 Batch 5:  Loss:     0.7206 Validation Accuracy: 0.643000\n",
      "Epoch 15, CIFAR-10 Batch 1:  Loss:     0.8132 Validation Accuracy: 0.639600\n",
      "Epoch 15, CIFAR-10 Batch 2:  Loss:     0.7653 Validation Accuracy: 0.640600\n",
      "Epoch 15, CIFAR-10 Batch 3:  Loss:     0.7279 Validation Accuracy: 0.632800\n",
      "Epoch 15, CIFAR-10 Batch 4:  Loss:     0.7368 Validation Accuracy: 0.648800\n",
      "Epoch 15, CIFAR-10 Batch 5:  Loss:     0.7010 Validation Accuracy: 0.646200\n",
      "Epoch 16, CIFAR-10 Batch 1:  Loss:     0.7602 Validation Accuracy: 0.650600\n",
      "Epoch 16, CIFAR-10 Batch 2:  Loss:     0.7614 Validation Accuracy: 0.639200\n",
      "Epoch 16, CIFAR-10 Batch 3:  Loss:     0.6986 Validation Accuracy: 0.650800\n",
      "Epoch 16, CIFAR-10 Batch 4:  Loss:     0.6935 Validation Accuracy: 0.647000\n",
      "Epoch 16, CIFAR-10 Batch 5:  Loss:     0.6747 Validation Accuracy: 0.659600\n",
      "Epoch 17, CIFAR-10 Batch 1:  Loss:     0.7802 Validation Accuracy: 0.650800\n",
      "Epoch 17, CIFAR-10 Batch 2:  Loss:     0.7412 Validation Accuracy: 0.642600\n",
      "Epoch 17, CIFAR-10 Batch 3:  Loss:     0.6876 Validation Accuracy: 0.638600\n",
      "Epoch 17, CIFAR-10 Batch 4:  Loss:     0.6497 Validation Accuracy: 0.655600\n",
      "Epoch 17, CIFAR-10 Batch 5:  Loss:     0.6694 Validation Accuracy: 0.647400\n",
      "Epoch 18, CIFAR-10 Batch 1:  Loss:     0.7368 Validation Accuracy: 0.654200\n",
      "Epoch 18, CIFAR-10 Batch 2:  Loss:     0.6907 Validation Accuracy: 0.643800\n",
      "Epoch 18, CIFAR-10 Batch 3:  Loss:     0.6262 Validation Accuracy: 0.659200\n",
      "Epoch 18, CIFAR-10 Batch 4:  Loss:     0.6371 Validation Accuracy: 0.656800\n",
      "Epoch 18, CIFAR-10 Batch 5:  Loss:     0.6291 Validation Accuracy: 0.659400\n",
      "Epoch 19, CIFAR-10 Batch 1:  Loss:     0.7211 Validation Accuracy: 0.653200\n",
      "Epoch 19, CIFAR-10 Batch 2:  Loss:     0.6906 Validation Accuracy: 0.637000\n",
      "Epoch 19, CIFAR-10 Batch 3:  Loss:     0.6262 Validation Accuracy: 0.663800\n",
      "Epoch 19, CIFAR-10 Batch 4:  Loss:     0.6287 Validation Accuracy: 0.658400\n",
      "Epoch 19, CIFAR-10 Batch 5:  Loss:     0.5981 Validation Accuracy: 0.665600\n",
      "Epoch 20, CIFAR-10 Batch 1:  Loss:     0.6976 Validation Accuracy: 0.648600\n",
      "Epoch 20, CIFAR-10 Batch 2:  Loss:     0.6901 Validation Accuracy: 0.634200\n",
      "Epoch 20, CIFAR-10 Batch 3:  Loss:     0.6243 Validation Accuracy: 0.653200\n",
      "Epoch 20, CIFAR-10 Batch 4:  Loss:     0.6156 Validation Accuracy: 0.649600\n",
      "Epoch 20, CIFAR-10 Batch 5:  Loss:     0.5865 Validation Accuracy: 0.658800\n",
      "Epoch 21, CIFAR-10 Batch 1:  Loss:     0.6696 Validation Accuracy: 0.657400\n",
      "Epoch 21, CIFAR-10 Batch 2:  Loss:     0.6955 Validation Accuracy: 0.639000\n",
      "Epoch 21, CIFAR-10 Batch 3:  Loss:     0.5884 Validation Accuracy: 0.661400\n",
      "Epoch 21, CIFAR-10 Batch 4:  Loss:     0.5718 Validation Accuracy: 0.659200\n",
      "Epoch 21, CIFAR-10 Batch 5:  Loss:     0.5587 Validation Accuracy: 0.667400\n",
      "Epoch 22, CIFAR-10 Batch 1:  Loss:     0.6384 Validation Accuracy: 0.653600\n",
      "Epoch 22, CIFAR-10 Batch 2:  Loss:     0.6560 Validation Accuracy: 0.647000\n",
      "Epoch 22, CIFAR-10 Batch 3:  Loss:     0.5576 Validation Accuracy: 0.665400\n",
      "Epoch 22, CIFAR-10 Batch 4:  Loss:     0.5720 Validation Accuracy: 0.656000\n",
      "Epoch 22, CIFAR-10 Batch 5:  Loss:     0.5474 Validation Accuracy: 0.660200\n",
      "Epoch 23, CIFAR-10 Batch 1:  Loss:     0.6299 Validation Accuracy: 0.646800\n",
      "Epoch 23, CIFAR-10 Batch 2:  Loss:     0.6253 Validation Accuracy: 0.658800\n",
      "Epoch 23, CIFAR-10 Batch 3:  Loss:     0.5572 Validation Accuracy: 0.656400\n",
      "Epoch 23, CIFAR-10 Batch 4:  Loss:     0.5562 Validation Accuracy: 0.659400\n",
      "Epoch 23, CIFAR-10 Batch 5:  Loss:     0.5282 Validation Accuracy: 0.672800\n",
      "Epoch 24, CIFAR-10 Batch 1:  Loss:     0.6140 Validation Accuracy: 0.656600\n",
      "Epoch 24, CIFAR-10 Batch 2:  Loss:     0.6335 Validation Accuracy: 0.658800\n",
      "Epoch 24, CIFAR-10 Batch 3:  Loss:     0.5232 Validation Accuracy: 0.673000\n",
      "Epoch 24, CIFAR-10 Batch 4:  Loss:     0.5411 Validation Accuracy: 0.665000\n",
      "Epoch 24, CIFAR-10 Batch 5:  Loss:     0.5264 Validation Accuracy: 0.667200\n",
      "Epoch 25, CIFAR-10 Batch 1:  Loss:     0.5882 Validation Accuracy: 0.659800\n",
      "Epoch 25, CIFAR-10 Batch 2:  Loss:     0.5891 Validation Accuracy: 0.660800\n",
      "Epoch 25, CIFAR-10 Batch 3:  Loss:     0.5988 Validation Accuracy: 0.649800\n",
      "Epoch 25, CIFAR-10 Batch 4:  Loss:     0.5421 Validation Accuracy: 0.661000\n",
      "Epoch 25, CIFAR-10 Batch 5:  Loss:     0.5191 Validation Accuracy: 0.667400\n",
      "Epoch 26, CIFAR-10 Batch 1:  Loss:     0.5658 Validation Accuracy: 0.665400\n",
      "Epoch 26, CIFAR-10 Batch 2:  Loss:     0.5977 Validation Accuracy: 0.663800\n",
      "Epoch 26, CIFAR-10 Batch 3:  Loss:     0.5377 Validation Accuracy: 0.656600\n",
      "Epoch 26, CIFAR-10 Batch 4:  Loss:     0.5022 Validation Accuracy: 0.666200\n",
      "Epoch 26, CIFAR-10 Batch 5:  Loss:     0.4900 Validation Accuracy: 0.667400\n",
      "Epoch 27, CIFAR-10 Batch 1:  Loss:     0.5382 Validation Accuracy: 0.666600\n",
      "Epoch 27, CIFAR-10 Batch 2:  Loss:     0.5412 Validation Accuracy: 0.667400\n",
      "Epoch 27, CIFAR-10 Batch 3:  Loss:     0.4998 Validation Accuracy: 0.660200\n",
      "Epoch 27, CIFAR-10 Batch 4:  Loss:     0.4809 Validation Accuracy: 0.669600\n",
      "Epoch 27, CIFAR-10 Batch 5:  Loss:     0.4710 Validation Accuracy: 0.672800\n",
      "Epoch 28, CIFAR-10 Batch 1:  Loss:     0.5209 Validation Accuracy: 0.678000\n",
      "Epoch 28, CIFAR-10 Batch 2:  Loss:     0.5264 Validation Accuracy: 0.671200\n",
      "Epoch 28, CIFAR-10 Batch 3:  Loss:     0.4585 Validation Accuracy: 0.674200\n",
      "Epoch 28, CIFAR-10 Batch 4:  Loss:     0.4732 Validation Accuracy: 0.675200\n",
      "Epoch 28, CIFAR-10 Batch 5:  Loss:     0.4563 Validation Accuracy: 0.673000\n",
      "Epoch 29, CIFAR-10 Batch 1:  Loss:     0.4895 Validation Accuracy: 0.673200\n",
      "Epoch 29, CIFAR-10 Batch 2:  Loss:     0.4881 Validation Accuracy: 0.677600\n",
      "Epoch 29, CIFAR-10 Batch 3:  Loss:     0.4174 Validation Accuracy: 0.684200\n",
      "Epoch 29, CIFAR-10 Batch 4:  Loss:     0.4525 Validation Accuracy: 0.684000\n",
      "Epoch 29, CIFAR-10 Batch 5:  Loss:     0.4339 Validation Accuracy: 0.677800\n",
      "Epoch 30, CIFAR-10 Batch 1:  Loss:     0.4841 Validation Accuracy: 0.670000\n",
      "Epoch 30, CIFAR-10 Batch 2:  Loss:     0.4915 Validation Accuracy: 0.681000\n",
      "Epoch 30, CIFAR-10 Batch 3:  Loss:     0.3858 Validation Accuracy: 0.680600\n",
      "Epoch 30, CIFAR-10 Batch 4:  Loss:     0.4245 Validation Accuracy: 0.683000\n",
      "Epoch 30, CIFAR-10 Batch 5:  Loss:     0.4164 Validation Accuracy: 0.674000\n",
      "Epoch 31, CIFAR-10 Batch 1:  Loss:     0.4826 Validation Accuracy: 0.673600\n",
      "Epoch 31, CIFAR-10 Batch 2:  Loss:     0.4717 Validation Accuracy: 0.683000\n",
      "Epoch 31, CIFAR-10 Batch 3:  Loss:     0.4032 Validation Accuracy: 0.673000\n",
      "Epoch 31, CIFAR-10 Batch 4:  Loss:     0.4220 Validation Accuracy: 0.681800\n",
      "Epoch 31, CIFAR-10 Batch 5:  Loss:     0.3983 Validation Accuracy: 0.673200\n",
      "Epoch 32, CIFAR-10 Batch 1:  Loss:     0.4596 Validation Accuracy: 0.682000\n",
      "Epoch 32, CIFAR-10 Batch 2:  Loss:     0.4567 Validation Accuracy: 0.679400\n",
      "Epoch 32, CIFAR-10 Batch 3:  Loss:     0.4001 Validation Accuracy: 0.674800\n",
      "Epoch 32, CIFAR-10 Batch 4:  Loss:     0.4203 Validation Accuracy: 0.682600\n",
      "Epoch 32, CIFAR-10 Batch 5:  Loss:     0.3912 Validation Accuracy: 0.676400\n",
      "Epoch 33, CIFAR-10 Batch 1:  Loss:     0.4423 Validation Accuracy: 0.677000\n",
      "Epoch 33, CIFAR-10 Batch 2:  Loss:     0.4451 Validation Accuracy: 0.683400\n",
      "Epoch 33, CIFAR-10 Batch 3:  Loss:     0.3644 Validation Accuracy: 0.672200\n",
      "Epoch 33, CIFAR-10 Batch 4:  Loss:     0.3903 Validation Accuracy: 0.686000\n",
      "Epoch 33, CIFAR-10 Batch 5:  Loss:     0.3870 Validation Accuracy: 0.675600\n",
      "Epoch 34, CIFAR-10 Batch 1:  Loss:     0.4348 Validation Accuracy: 0.679800\n",
      "Epoch 34, CIFAR-10 Batch 2:  Loss:     0.4403 Validation Accuracy: 0.678600\n",
      "Epoch 34, CIFAR-10 Batch 3:  Loss:     0.3639 Validation Accuracy: 0.670000\n",
      "Epoch 34, CIFAR-10 Batch 4:  Loss:     0.3921 Validation Accuracy: 0.682600\n",
      "Epoch 34, CIFAR-10 Batch 5:  Loss:     0.3516 Validation Accuracy: 0.685400\n",
      "Epoch 35, CIFAR-10 Batch 1:  Loss:     0.4167 Validation Accuracy: 0.683400\n",
      "Epoch 35, CIFAR-10 Batch 2:  Loss:     0.4401 Validation Accuracy: 0.672000\n",
      "Epoch 35, CIFAR-10 Batch 3:  Loss:     0.3936 Validation Accuracy: 0.660200\n",
      "Epoch 35, CIFAR-10 Batch 4:  Loss:     0.3667 Validation Accuracy: 0.681800\n",
      "Epoch 35, CIFAR-10 Batch 5:  Loss:     0.3704 Validation Accuracy: 0.677600\n",
      "Epoch 36, CIFAR-10 Batch 1:  Loss:     0.4043 Validation Accuracy: 0.691400\n",
      "Epoch 36, CIFAR-10 Batch 2:  Loss:     0.4295 Validation Accuracy: 0.675800\n",
      "Epoch 36, CIFAR-10 Batch 3:  Loss:     0.3694 Validation Accuracy: 0.673200\n",
      "Epoch 36, CIFAR-10 Batch 4:  Loss:     0.3809 Validation Accuracy: 0.681200\n",
      "Epoch 36, CIFAR-10 Batch 5:  Loss:     0.3694 Validation Accuracy: 0.675600\n",
      "Epoch 37, CIFAR-10 Batch 1:  Loss:     0.3931 Validation Accuracy: 0.690000\n",
      "Epoch 37, CIFAR-10 Batch 2:  Loss:     0.4173 Validation Accuracy: 0.667800\n",
      "Epoch 37, CIFAR-10 Batch 3:  Loss:     0.4071 Validation Accuracy: 0.662000\n",
      "Epoch 37, CIFAR-10 Batch 4:  Loss:     0.3681 Validation Accuracy: 0.684200\n",
      "Epoch 37, CIFAR-10 Batch 5:  Loss:     0.3492 Validation Accuracy: 0.677000\n",
      "Epoch 38, CIFAR-10 Batch 1:  Loss:     0.3875 Validation Accuracy: 0.686800\n",
      "Epoch 38, CIFAR-10 Batch 2:  Loss:     0.3621 Validation Accuracy: 0.684000\n",
      "Epoch 38, CIFAR-10 Batch 3:  Loss:     0.3770 Validation Accuracy: 0.658400\n",
      "Epoch 38, CIFAR-10 Batch 4:  Loss:     0.3377 Validation Accuracy: 0.681800\n",
      "Epoch 38, CIFAR-10 Batch 5:  Loss:     0.3378 Validation Accuracy: 0.683000\n",
      "Epoch 39, CIFAR-10 Batch 1:  Loss:     0.3632 Validation Accuracy: 0.691600\n",
      "Epoch 39, CIFAR-10 Batch 2:  Loss:     0.3671 Validation Accuracy: 0.687400\n",
      "Epoch 39, CIFAR-10 Batch 3:  Loss:     0.3897 Validation Accuracy: 0.657200\n",
      "Epoch 39, CIFAR-10 Batch 4:  Loss:     0.3534 Validation Accuracy: 0.675600\n",
      "Epoch 39, CIFAR-10 Batch 5:  Loss:     0.3454 Validation Accuracy: 0.673800\n",
      "Epoch 40, CIFAR-10 Batch 1:  Loss:     0.3700 Validation Accuracy: 0.682200\n",
      "Epoch 40, CIFAR-10 Batch 2:  Loss:     0.4062 Validation Accuracy: 0.683400\n",
      "Epoch 40, CIFAR-10 Batch 3:  Loss:     0.3272 Validation Accuracy: 0.670600\n",
      "Epoch 40, CIFAR-10 Batch 4:  Loss:     0.3130 Validation Accuracy: 0.671400\n",
      "Epoch 40, CIFAR-10 Batch 5:  Loss:     0.3252 Validation Accuracy: 0.677000\n",
      "Epoch 41, CIFAR-10 Batch 1:  Loss:     0.3737 Validation Accuracy: 0.683600\n",
      "Epoch 41, CIFAR-10 Batch 2:  Loss:     0.3804 Validation Accuracy: 0.680600\n",
      "Epoch 41, CIFAR-10 Batch 3:  Loss:     0.3264 Validation Accuracy: 0.676000\n",
      "Epoch 41, CIFAR-10 Batch 4:  Loss:     0.3406 Validation Accuracy: 0.662800\n",
      "Epoch 41, CIFAR-10 Batch 5:  Loss:     0.3280 Validation Accuracy: 0.684000\n",
      "Epoch 42, CIFAR-10 Batch 1:  Loss:     0.3688 Validation Accuracy: 0.677800\n",
      "Epoch 42, CIFAR-10 Batch 2:  Loss:     0.3535 Validation Accuracy: 0.680800\n",
      "Epoch 42, CIFAR-10 Batch 3:  Loss:     0.3115 Validation Accuracy: 0.673000\n",
      "Epoch 42, CIFAR-10 Batch 4:  Loss:     0.3225 Validation Accuracy: 0.662800\n",
      "Epoch 42, CIFAR-10 Batch 5:  Loss:     0.3132 Validation Accuracy: 0.688200\n",
      "Epoch 43, CIFAR-10 Batch 1:  Loss:     0.3265 Validation Accuracy: 0.687000\n",
      "Epoch 43, CIFAR-10 Batch 2:  Loss:     0.3179 Validation Accuracy: 0.683200\n",
      "Epoch 43, CIFAR-10 Batch 3:  Loss:     0.3062 Validation Accuracy: 0.669800\n",
      "Epoch 43, CIFAR-10 Batch 4:  Loss:     0.3432 Validation Accuracy: 0.663600\n",
      "Epoch 43, CIFAR-10 Batch 5:  Loss:     0.3227 Validation Accuracy: 0.674200\n",
      "Epoch 44, CIFAR-10 Batch 1:  Loss:     0.3418 Validation Accuracy: 0.681200\n",
      "Epoch 44, CIFAR-10 Batch 2:  Loss:     0.3128 Validation Accuracy: 0.682000\n",
      "Epoch 44, CIFAR-10 Batch 3:  Loss:     0.3065 Validation Accuracy: 0.670800\n",
      "Epoch 44, CIFAR-10 Batch 4:  Loss:     0.3016 Validation Accuracy: 0.670600\n",
      "Epoch 44, CIFAR-10 Batch 5:  Loss:     0.3242 Validation Accuracy: 0.671200\n",
      "Epoch 45, CIFAR-10 Batch 1:  Loss:     0.3221 Validation Accuracy: 0.677800\n",
      "Epoch 45, CIFAR-10 Batch 2:  Loss:     0.3342 Validation Accuracy: 0.678800\n",
      "Epoch 45, CIFAR-10 Batch 3:  Loss:     0.2901 Validation Accuracy: 0.667600\n",
      "Epoch 45, CIFAR-10 Batch 4:  Loss:     0.3280 Validation Accuracy: 0.658800\n",
      "Epoch 45, CIFAR-10 Batch 5:  Loss:     0.3057 Validation Accuracy: 0.676200\n",
      "Epoch 46, CIFAR-10 Batch 1:  Loss:     0.3118 Validation Accuracy: 0.674400\n",
      "Epoch 46, CIFAR-10 Batch 2:  Loss:     0.3219 Validation Accuracy: 0.680200\n",
      "Epoch 46, CIFAR-10 Batch 3:  Loss:     0.2628 Validation Accuracy: 0.676800\n",
      "Epoch 46, CIFAR-10 Batch 4:  Loss:     0.3019 Validation Accuracy: 0.658200\n",
      "Epoch 46, CIFAR-10 Batch 5:  Loss:     0.3198 Validation Accuracy: 0.669000\n",
      "Epoch 47, CIFAR-10 Batch 1:  Loss:     0.3113 Validation Accuracy: 0.672800\n",
      "Epoch 47, CIFAR-10 Batch 2:  Loss:     0.2874 Validation Accuracy: 0.681800\n",
      "Epoch 47, CIFAR-10 Batch 3:  Loss:     0.2728 Validation Accuracy: 0.673000\n",
      "Epoch 47, CIFAR-10 Batch 4:  Loss:     0.3447 Validation Accuracy: 0.656600\n",
      "Epoch 47, CIFAR-10 Batch 5:  Loss:     0.3053 Validation Accuracy: 0.678800\n",
      "Epoch 48, CIFAR-10 Batch 1:  Loss:     0.2911 Validation Accuracy: 0.681800\n",
      "Epoch 48, CIFAR-10 Batch 2:  Loss:     0.2938 Validation Accuracy: 0.684600\n",
      "Epoch 48, CIFAR-10 Batch 3:  Loss:     0.2263 Validation Accuracy: 0.686000\n",
      "Epoch 48, CIFAR-10 Batch 4:  Loss:     0.3094 Validation Accuracy: 0.659400\n",
      "Epoch 48, CIFAR-10 Batch 5:  Loss:     0.3060 Validation Accuracy: 0.674000\n",
      "Epoch 49, CIFAR-10 Batch 1:  Loss:     0.3014 Validation Accuracy: 0.675200\n",
      "Epoch 49, CIFAR-10 Batch 2:  Loss:     0.2939 Validation Accuracy: 0.678600\n",
      "Epoch 49, CIFAR-10 Batch 3:  Loss:     0.2232 Validation Accuracy: 0.680800\n",
      "Epoch 49, CIFAR-10 Batch 4:  Loss:     0.2864 Validation Accuracy: 0.658600\n",
      "Epoch 49, CIFAR-10 Batch 5:  Loss:     0.2864 Validation Accuracy: 0.671800\n",
      "Epoch 50, CIFAR-10 Batch 1:  Loss:     0.3228 Validation Accuracy: 0.663200\n",
      "Epoch 50, CIFAR-10 Batch 2:  Loss:     0.2738 Validation Accuracy: 0.677000\n",
      "Epoch 50, CIFAR-10 Batch 3:  Loss:     0.2149 Validation Accuracy: 0.691800\n",
      "Epoch 50, CIFAR-10 Batch 4:  Loss:     0.2858 Validation Accuracy: 0.661000\n",
      "Epoch 50, CIFAR-10 Batch 5:  Loss:     0.2874 Validation Accuracy: 0.673200\n",
      "Epoch 51, CIFAR-10 Batch 1:  Loss:     0.2877 Validation Accuracy: 0.671000\n",
      "Epoch 51, CIFAR-10 Batch 2:  Loss:     0.2730 Validation Accuracy: 0.671800\n",
      "Epoch 51, CIFAR-10 Batch 3:  Loss:     0.2194 Validation Accuracy: 0.682600\n",
      "Epoch 51, CIFAR-10 Batch 4:  Loss:     0.2816 Validation Accuracy: 0.669600\n",
      "Epoch 51, CIFAR-10 Batch 5:  Loss:     0.2632 Validation Accuracy: 0.678600\n",
      "Epoch 52, CIFAR-10 Batch 1:  Loss:     0.3017 Validation Accuracy: 0.675600\n",
      "Epoch 52, CIFAR-10 Batch 2:  Loss:     0.2570 Validation Accuracy: 0.678400\n",
      "Epoch 52, CIFAR-10 Batch 3:  Loss:     0.2225 Validation Accuracy: 0.681600\n",
      "Epoch 52, CIFAR-10 Batch 4:  Loss:     0.2569 Validation Accuracy: 0.675400\n",
      "Epoch 52, CIFAR-10 Batch 5:  Loss:     0.2567 Validation Accuracy: 0.681200\n",
      "Epoch 53, CIFAR-10 Batch 1:  Loss:     0.2821 Validation Accuracy: 0.674400\n",
      "Epoch 53, CIFAR-10 Batch 2:  Loss:     0.2286 Validation Accuracy: 0.674600\n",
      "Epoch 53, CIFAR-10 Batch 3:  Loss:     0.1897 Validation Accuracy: 0.693000\n",
      "Epoch 53, CIFAR-10 Batch 4:  Loss:     0.2670 Validation Accuracy: 0.678400\n",
      "Epoch 53, CIFAR-10 Batch 5:  Loss:     0.2411 Validation Accuracy: 0.685000\n",
      "Epoch 54, CIFAR-10 Batch 1:  Loss:     0.2767 Validation Accuracy: 0.677600\n",
      "Epoch 54, CIFAR-10 Batch 2:  Loss:     0.2428 Validation Accuracy: 0.671800\n",
      "Epoch 54, CIFAR-10 Batch 3:  Loss:     0.2377 Validation Accuracy: 0.686400\n",
      "Epoch 54, CIFAR-10 Batch 4:  Loss:     0.2503 Validation Accuracy: 0.680200\n",
      "Epoch 54, CIFAR-10 Batch 5:  Loss:     0.2560 Validation Accuracy: 0.682200\n",
      "Epoch 55, CIFAR-10 Batch 1:  Loss:     0.2734 Validation Accuracy: 0.676200\n",
      "Epoch 55, CIFAR-10 Batch 2:  Loss:     0.2318 Validation Accuracy: 0.670000\n",
      "Epoch 55, CIFAR-10 Batch 3:  Loss:     0.2050 Validation Accuracy: 0.685600\n",
      "Epoch 55, CIFAR-10 Batch 4:  Loss:     0.2287 Validation Accuracy: 0.682000\n",
      "Epoch 55, CIFAR-10 Batch 5:  Loss:     0.2415 Validation Accuracy: 0.681000\n",
      "Epoch 56, CIFAR-10 Batch 1:  Loss:     0.2683 Validation Accuracy: 0.671800\n",
      "Epoch 56, CIFAR-10 Batch 2:  Loss:     0.2410 Validation Accuracy: 0.668600\n",
      "Epoch 56, CIFAR-10 Batch 3:  Loss:     0.1885 Validation Accuracy: 0.688400\n",
      "Epoch 56, CIFAR-10 Batch 4:  Loss:     0.2284 Validation Accuracy: 0.681800\n",
      "Epoch 56, CIFAR-10 Batch 5:  Loss:     0.2472 Validation Accuracy: 0.669800\n",
      "Epoch 57, CIFAR-10 Batch 1:  Loss:     0.2530 Validation Accuracy: 0.669200\n",
      "Epoch 57, CIFAR-10 Batch 2:  Loss:     0.2327 Validation Accuracy: 0.664200\n",
      "Epoch 57, CIFAR-10 Batch 3:  Loss:     0.2146 Validation Accuracy: 0.687400\n",
      "Epoch 57, CIFAR-10 Batch 4:  Loss:     0.2494 Validation Accuracy: 0.682800\n",
      "Epoch 57, CIFAR-10 Batch 5:  Loss:     0.2510 Validation Accuracy: 0.656800\n",
      "Epoch 58, CIFAR-10 Batch 1:  Loss:     0.2608 Validation Accuracy: 0.667600\n",
      "Epoch 58, CIFAR-10 Batch 2:  Loss:     0.2418 Validation Accuracy: 0.669600\n",
      "Epoch 58, CIFAR-10 Batch 3:  Loss:     0.1940 Validation Accuracy: 0.684400\n",
      "Epoch 58, CIFAR-10 Batch 4:  Loss:     0.2050 Validation Accuracy: 0.685600\n",
      "Epoch 58, CIFAR-10 Batch 5:  Loss:     0.2375 Validation Accuracy: 0.669200\n",
      "Epoch 59, CIFAR-10 Batch 1:  Loss:     0.2667 Validation Accuracy: 0.668400\n",
      "Epoch 59, CIFAR-10 Batch 2:  Loss:     0.2504 Validation Accuracy: 0.655000\n",
      "Epoch 59, CIFAR-10 Batch 3:  Loss:     0.2079 Validation Accuracy: 0.680800\n",
      "Epoch 59, CIFAR-10 Batch 4:  Loss:     0.2480 Validation Accuracy: 0.671800\n",
      "Epoch 59, CIFAR-10 Batch 5:  Loss:     0.2531 Validation Accuracy: 0.664000\n",
      "Epoch 60, CIFAR-10 Batch 1:  Loss:     0.2216 Validation Accuracy: 0.670800\n",
      "Epoch 60, CIFAR-10 Batch 2:  Loss:     0.2513 Validation Accuracy: 0.662800\n",
      "Epoch 60, CIFAR-10 Batch 3:  Loss:     0.2150 Validation Accuracy: 0.678400\n",
      "Epoch 60, CIFAR-10 Batch 4:  Loss:     0.2613 Validation Accuracy: 0.658200\n",
      "Epoch 60, CIFAR-10 Batch 5:  Loss:     0.2120 Validation Accuracy: 0.678800\n",
      "Epoch 61, CIFAR-10 Batch 1:  Loss:     0.2188 Validation Accuracy: 0.677600\n",
      "Epoch 61, CIFAR-10 Batch 2:  Loss:     0.2271 Validation Accuracy: 0.661400\n",
      "Epoch 61, CIFAR-10 Batch 3:  Loss:     0.1967 Validation Accuracy: 0.682400\n",
      "Epoch 61, CIFAR-10 Batch 4:  Loss:     0.1999 Validation Accuracy: 0.668200\n",
      "Epoch 61, CIFAR-10 Batch 5:  Loss:     0.1949 Validation Accuracy: 0.682000\n",
      "Epoch 62, CIFAR-10 Batch 1:  Loss:     0.2032 Validation Accuracy: 0.679200\n",
      "Epoch 62, CIFAR-10 Batch 2:  Loss:     0.1955 Validation Accuracy: 0.670800\n",
      "Epoch 62, CIFAR-10 Batch 3:  Loss:     0.1730 Validation Accuracy: 0.679200\n",
      "Epoch 62, CIFAR-10 Batch 4:  Loss:     0.1955 Validation Accuracy: 0.664400\n",
      "Epoch 62, CIFAR-10 Batch 5:  Loss:     0.1954 Validation Accuracy: 0.676400\n",
      "Epoch 63, CIFAR-10 Batch 1:  Loss:     0.2016 Validation Accuracy: 0.682600\n",
      "Epoch 63, CIFAR-10 Batch 2:  Loss:     0.1955 Validation Accuracy: 0.671000\n",
      "Epoch 63, CIFAR-10 Batch 3:  Loss:     0.1798 Validation Accuracy: 0.673400\n",
      "Epoch 63, CIFAR-10 Batch 4:  Loss:     0.1847 Validation Accuracy: 0.669400\n",
      "Epoch 63, CIFAR-10 Batch 5:  Loss:     0.2158 Validation Accuracy: 0.670800\n",
      "Epoch 64, CIFAR-10 Batch 1:  Loss:     0.2181 Validation Accuracy: 0.668400\n",
      "Epoch 64, CIFAR-10 Batch 2:  Loss:     0.1961 Validation Accuracy: 0.670000\n",
      "Epoch 64, CIFAR-10 Batch 3:  Loss:     0.1519 Validation Accuracy: 0.684600\n",
      "Epoch 64, CIFAR-10 Batch 4:  Loss:     0.1965 Validation Accuracy: 0.660400\n",
      "Epoch 64, CIFAR-10 Batch 5:  Loss:     0.2132 Validation Accuracy: 0.673600\n",
      "Epoch 65, CIFAR-10 Batch 1:  Loss:     0.1989 Validation Accuracy: 0.677800\n",
      "Epoch 65, CIFAR-10 Batch 2:  Loss:     0.2182 Validation Accuracy: 0.659000\n",
      "Epoch 65, CIFAR-10 Batch 3:  Loss:     0.1647 Validation Accuracy: 0.679600\n",
      "Epoch 65, CIFAR-10 Batch 4:  Loss:     0.2063 Validation Accuracy: 0.668400\n",
      "Epoch 65, CIFAR-10 Batch 5:  Loss:     0.2205 Validation Accuracy: 0.667200\n",
      "Epoch 66, CIFAR-10 Batch 1:  Loss:     0.2024 Validation Accuracy: 0.668400\n",
      "Epoch 66, CIFAR-10 Batch 2:  Loss:     0.1866 Validation Accuracy: 0.676400\n",
      "Epoch 66, CIFAR-10 Batch 3:  Loss:     0.1429 Validation Accuracy: 0.681600\n",
      "Epoch 66, CIFAR-10 Batch 4:  Loss:     0.2194 Validation Accuracy: 0.664200\n",
      "Epoch 66, CIFAR-10 Batch 5:  Loss:     0.2182 Validation Accuracy: 0.673600\n",
      "Epoch 67, CIFAR-10 Batch 1:  Loss:     0.2015 Validation Accuracy: 0.673800\n",
      "Epoch 67, CIFAR-10 Batch 2:  Loss:     0.1755 Validation Accuracy: 0.680600\n",
      "Epoch 67, CIFAR-10 Batch 3:  Loss:     0.1713 Validation Accuracy: 0.672400\n",
      "Epoch 67, CIFAR-10 Batch 4:  Loss:     0.1822 Validation Accuracy: 0.673800\n",
      "Epoch 67, CIFAR-10 Batch 5:  Loss:     0.1862 Validation Accuracy: 0.671000\n",
      "Epoch 68, CIFAR-10 Batch 1:  Loss:     0.2066 Validation Accuracy: 0.667800\n",
      "Epoch 68, CIFAR-10 Batch 2:  Loss:     0.1838 Validation Accuracy: 0.667800\n",
      "Epoch 68, CIFAR-10 Batch 3:  Loss:     0.1580 Validation Accuracy: 0.679800\n",
      "Epoch 68, CIFAR-10 Batch 4:  Loss:     0.1665 Validation Accuracy: 0.667200\n",
      "Epoch 68, CIFAR-10 Batch 5:  Loss:     0.1822 Validation Accuracy: 0.671800\n",
      "Epoch 69, CIFAR-10 Batch 1:  Loss:     0.1967 Validation Accuracy: 0.665800\n",
      "Epoch 69, CIFAR-10 Batch 2:  Loss:     0.1716 Validation Accuracy: 0.680200\n",
      "Epoch 69, CIFAR-10 Batch 3:  Loss:     0.1351 Validation Accuracy: 0.680200\n",
      "Epoch 69, CIFAR-10 Batch 4:  Loss:     0.1710 Validation Accuracy: 0.663200\n",
      "Epoch 69, CIFAR-10 Batch 5:  Loss:     0.1860 Validation Accuracy: 0.670000\n",
      "Epoch 70, CIFAR-10 Batch 1:  Loss:     0.1975 Validation Accuracy: 0.671000\n",
      "Epoch 70, CIFAR-10 Batch 2:  Loss:     0.1807 Validation Accuracy: 0.673000\n",
      "Epoch 70, CIFAR-10 Batch 3:  Loss:     0.1444 Validation Accuracy: 0.680400\n",
      "Epoch 70, CIFAR-10 Batch 4:  Loss:     0.1775 Validation Accuracy: 0.675400\n",
      "Epoch 70, CIFAR-10 Batch 5:  Loss:     0.1833 Validation Accuracy: 0.669400\n",
      "Epoch 71, CIFAR-10 Batch 1:  Loss:     0.2018 Validation Accuracy: 0.670400\n",
      "Epoch 71, CIFAR-10 Batch 2:  Loss:     0.1949 Validation Accuracy: 0.662400\n",
      "Epoch 71, CIFAR-10 Batch 3:  Loss:     0.1247 Validation Accuracy: 0.685200\n",
      "Epoch 71, CIFAR-10 Batch 4:  Loss:     0.1513 Validation Accuracy: 0.680400\n",
      "Epoch 71, CIFAR-10 Batch 5:  Loss:     0.1689 Validation Accuracy: 0.670600\n",
      "Epoch 72, CIFAR-10 Batch 1:  Loss:     0.1779 Validation Accuracy: 0.679400\n",
      "Epoch 72, CIFAR-10 Batch 2:  Loss:     0.1708 Validation Accuracy: 0.662800\n",
      "Epoch 72, CIFAR-10 Batch 3:  Loss:     0.1199 Validation Accuracy: 0.687400\n",
      "Epoch 72, CIFAR-10 Batch 4:  Loss:     0.1352 Validation Accuracy: 0.678200\n",
      "Epoch 72, CIFAR-10 Batch 5:  Loss:     0.1606 Validation Accuracy: 0.671000\n",
      "Epoch 73, CIFAR-10 Batch 1:  Loss:     0.1644 Validation Accuracy: 0.672600\n",
      "Epoch 73, CIFAR-10 Batch 2:  Loss:     0.1650 Validation Accuracy: 0.672600\n",
      "Epoch 73, CIFAR-10 Batch 3:  Loss:     0.1304 Validation Accuracy: 0.677400\n",
      "Epoch 73, CIFAR-10 Batch 4:  Loss:     0.1382 Validation Accuracy: 0.678600\n",
      "Epoch 73, CIFAR-10 Batch 5:  Loss:     0.1687 Validation Accuracy: 0.666600\n",
      "Epoch 74, CIFAR-10 Batch 1:  Loss:     0.1740 Validation Accuracy: 0.675800\n",
      "Epoch 74, CIFAR-10 Batch 2:  Loss:     0.1735 Validation Accuracy: 0.668000\n",
      "Epoch 74, CIFAR-10 Batch 3:  Loss:     0.1512 Validation Accuracy: 0.675200\n",
      "Epoch 74, CIFAR-10 Batch 4:  Loss:     0.1324 Validation Accuracy: 0.684000\n",
      "Epoch 74, CIFAR-10 Batch 5:  Loss:     0.1534 Validation Accuracy: 0.673000\n",
      "Epoch 75, CIFAR-10 Batch 1:  Loss:     0.1497 Validation Accuracy: 0.682000\n",
      "Epoch 75, CIFAR-10 Batch 2:  Loss:     0.1600 Validation Accuracy: 0.665600\n",
      "Epoch 75, CIFAR-10 Batch 3:  Loss:     0.1510 Validation Accuracy: 0.672400\n",
      "Epoch 75, CIFAR-10 Batch 4:  Loss:     0.1350 Validation Accuracy: 0.683200\n",
      "Epoch 75, CIFAR-10 Batch 5:  Loss:     0.1499 Validation Accuracy: 0.665800\n"
     ]
    }
   ],
   "source": [
    "\"\"\"\n",
    "DON'T MODIFY ANYTHING IN THIS CELL\n",
    "\"\"\"\n",
    "save_model_path = './image_classification'\n",
    "\n",
    "print('Training...')\n",
    "with tf.Session() as sess:\n",
    "    # Initializing the variables\n",
    "    sess.run(tf.global_variables_initializer())\n",
    "    \n",
    "    # Training cycle\n",
    "    for epoch in range(epochs):\n",
    "        # Loop over all batches\n",
    "        n_batches = 5\n",
    "        for batch_i in range(1, n_batches + 1):\n",
    "            for batch_features, batch_labels in helper.load_preprocess_training_batch(batch_i, batch_size):\n",
    "                train_neural_network(sess, optimizer, keep_probability, batch_features, batch_labels)\n",
    "            print('Epoch {:>2}, CIFAR-10 Batch {}:  '.format(epoch + 1, batch_i), end='')\n",
    "            print_stats(sess, batch_features, batch_labels, cost, accuracy)\n",
    "            \n",
    "    # Save Model\n",
    "    saver = tf.train.Saver()\n",
    "    save_path = saver.save(sess, save_model_path)"
   ]
  },
  {
   "cell_type": "markdown",
   "metadata": {
    "deletable": true,
    "editable": true
   },
   "source": [
    "# Checkpoint\n",
    "The model has been saved to disk.\n",
    "## Test Model\n",
    "Test your model against the test dataset.  This will be your final accuracy. You should have an accuracy greater than 50%. If you don't, keep tweaking the model architecture and parameters."
   ]
  },
  {
   "cell_type": "code",
   "execution_count": 113,
   "metadata": {
    "collapsed": false,
    "deletable": true,
    "editable": true
   },
   "outputs": [
    {
     "name": "stdout",
     "output_type": "stream",
     "text": [
      "Testing Accuracy: 0.6796415448188782\n",
      "\n"
     ]
    },
    {
     "data": {
      "image/png": "[encoded data removed]",
      "text/plain": [
       "<matplotlib.figure.Figure at 0x7f8245e0ff28>"
      ]
     },
     "metadata": {
      "image/png": {
       "height": 319,
       "width": 355
      }
     },
     "output_type": "display_data"
    }
   ],
   "source": [
    "\"\"\"\n",
    "DON'T MODIFY ANYTHING IN THIS CELL\n",
    "\"\"\"\n",
    "%matplotlib inline\n",
    "%config InlineBackend.figure_format = 'retina'\n",
    "\n",
    "import tensorflow as tf\n",
    "import pickle\n",
    "import helper\n",
    "import random\n",
    "\n",
    "# Set batch size if not already set\n",
    "try:\n",
    "    if batch_size:\n",
    "        pass\n",
    "except NameError:\n",
    "    batch_size = 64\n",
    "\n",
    "save_model_path = './image_classification'\n",
    "n_samples = 4\n",
    "top_n_predictions = 3\n",
    "\n",
    "def test_model():\n",
    "    \"\"\"\n",
    "    Test the saved model against the test dataset\n",
    "    \"\"\"\n",
    "\n",
    "    test_features, test_labels = pickle.load(open('preprocess_training.p', mode='rb'))\n",
    "    loaded_graph = tf.Graph()\n",
    "\n",
    "    with tf.Session(graph=loaded_graph) as sess:\n",
    "        # Load model\n",
    "        loader = tf.train.import_meta_graph(save_model_path + '.meta')\n",
    "        loader.restore(sess, save_model_path)\n",
    "\n",
    "        # Get Tensors from loaded model\n",
    "        loaded_x = loaded_graph.get_tensor_by_name('x:0')\n",
    "        loaded_y = loaded_graph.get_tensor_by_name('y:0')\n",
    "        loaded_keep_prob = loaded_graph.get_tensor_by_name('keep_prob:0')\n",
    "        loaded_logits = loaded_graph.get_tensor_by_name('logits:0')\n",
    "        loaded_acc = loaded_graph.get_tensor_by_name('accuracy:0')\n",
    "        \n",
    "        # Get accuracy in batches for memory limitations\n",
    "        test_batch_acc_total = 0\n",
    "        test_batch_count = 0\n",
    "        \n",
    "        for train_feature_batch, train_label_batch in helper.batch_features_labels(test_features, test_labels, batch_size):\n",
    "            test_batch_acc_total += sess.run(\n",
    "                loaded_acc,\n",
    "                feed_dict={loaded_x: train_feature_batch, loaded_y: train_label_batch, loaded_keep_prob: 1.0})\n",
    "            test_batch_count += 1\n",
    "\n",
    "        print('Testing Accuracy: {}\\n'.format(test_batch_acc_total/test_batch_count))\n",
    "\n",
    "        # Print Random Samples\n",
    "        random_test_features, random_test_labels = tuple(zip(*random.sample(list(zip(test_features, test_labels)), n_samples)))\n",
    "        random_test_predictions = sess.run(\n",
    "            tf.nn.top_k(tf.nn.softmax(loaded_logits), top_n_predictions),\n",
    "            feed_dict={loaded_x: random_test_features, loaded_y: random_test_labels, loaded_keep_prob: 1.0})\n",
    "        helper.display_image_predictions(random_test_features, random_test_labels, random_test_predictions)\n",
    "\n",
    "\n",
    "test_model()"
   ]
  },
  {
   "cell_type": "markdown",
   "metadata": {
    "deletable": true,
    "editable": true
   },
   "source": [
    "## Why 50-70% Accuracy?\n",
    "You might be wondering why you can't get an accuracy any higher. First things first, 50% isn't bad for a simple CNN.  Pure guessing would get you 10% accuracy. However, you might notice people are getting scores [well above 70%](http://rodrigob.github.io/are_we_there_yet/build/classification_datasets_results.html#43494641522d3130).  That's because we haven't taught you all there is to know about neural networks. We still need to cover a few more techniques.\n",
    "## Submitting This Project\n",
    "When submitting this project, make sure to run all the cells before saving the notebook.  Save the notebook file as \"dlnd_image_classification.ipynb\" and save it as a HTML file under \"File\" -> \"Download as\".  Include the \"helper.py\" and \"problem_unittests.py\" files in your submission."
   ]
  }
 ],
 "metadata": {
  "kernelspec": {
   "display_name": "Python 3",
   "language": "python",
   "name": "python3"
  },
  "language_info": {
   "codemirror_mode": {
    "name": "ipython",
    "version": 3
   },
   "file_extension": ".py",
   "mimetype": "text/x-python",
   "name": "python",
   "nbconvert_exporter": "python",
   "pygments_lexer": "ipython3",
   "version": "3.5.2"
  },
  "widgets": {
   "state": {},
   "version": "1.1.2"
  }
 },
 "nbformat": 4,
 "nbformat_minor": 0
}
